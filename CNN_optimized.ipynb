{
 "cells": [
  {
   "cell_type": "code",
   "execution_count": null,
   "id": "3237b6be",
   "metadata": {},
   "outputs": [],
   "source": [
    "import numpy as np"
   ]
  },
  {
   "cell_type": "code",
   "execution_count": null,
   "id": "8eb3fe7d",
   "metadata": {},
   "outputs": [],
   "source": [
    "#FUNCION IM2COL EN PYTHON (FUNCIONES PARA PODER HACER LA CONVOLUCION MUCHO MÁS RAPIDO)\n",
    "#FUNCION PARA UNA SOLA IMAGEN DE 2 DIMENSIONES\n",
    "def im2Dcol(A, blocksize, stepsize=1):\n",
    "    # Parameters\n",
    "    M,N = A.shape\n",
    "    col_extent = N - blocksize[1] + 1\n",
    "    row_extent = M - blocksize[0] + 1\n",
    "    \n",
    "    # Get Starting block indices\n",
    "    start_idx = (np.arange(blocksize[0])[:,None]*N + np.arange(blocksize[1])).T\n",
    "    \n",
    "    # Get offsetted indices across the height and width of input array\n",
    "    offset_idx = (np.arange(row_extent)[:,None]*N + np.arange(col_extent)).T\n",
    "    \n",
    "    # Get all actual indices & index into input array for final output\n",
    "    return np.take(A,start_idx.ravel()[:,None] + offset_idx.ravel()[::stepsize])\n",
    "\n",
    "#FUNCION DE EXPANSION PARA UN CONJUNTO DE IMAGENES DE C CANALES\n",
    "def imNDcol(A, blocksize, stepsize=1):\n",
    "  m, n_C, n_H, n_W = A.shape\n",
    "  #blocksize = [3,2,2]\n",
    "  col_extent = n_W - blocksize[2] + 1\n",
    "  row_extent = n_H - blocksize[1] + 1\n",
    "      \n",
    "  # Get Starting block indices\n",
    "  start_idx = (np.arange(blocksize[1])[:,None]*n_W + np.arange(blocksize[2])).T\n",
    "  start_idx = np.broadcast_to(start_idx, (1,n_C,blocksize[1], blocksize[2]))\n",
    "  idx_s = np.arange(0,n_W*n_W*n_C,n_W*n_W)[:, None]\n",
    "  idx_s = idx_s[None, :]\n",
    "  idx_s = idx_s[:,:,np.newaxis]\n",
    "  start_idx = start_idx + idx_s \n",
    "\n",
    "  # Get offsetted indices across the height and width of input array\n",
    "  offset_idx = (np.arange(row_extent)[:,None]*n_W + np.arange(col_extent)).T\n",
    "  h_o, w_o = offset_idx.shape\n",
    "  offset_idx = np.broadcast_to(offset_idx, (m, 1, h_o, w_o))\n",
    "  idx_o = np.arange(0,n_W*n_H*n_C*m, n_W*n_H*n_C)[:, None]\n",
    "  idx_o = idx_o[:,:,np.newaxis,np.newaxis]\n",
    "  offset_idx = offset_idx + idx_o\n",
    "  \n",
    "  # Get all actual indices & index into input array for final output\n",
    "\n",
    "  return np.take(A,start_idx.ravel()[:,None] + offset_idx.ravel()[::stepsize])"
   ]
  },
  {
   "cell_type": "code",
   "execution_count": null,
   "id": "adfbb9b8",
   "metadata": {},
   "outputs": [],
   "source": [
    "# FUNCIONES PARA LA CONVOLUCIÓN\n",
    "# imgIn => (#ejemplos)x(#canales)x(ancho)x(altura)\n",
    "# Filters => (#filtros)x(#canales)x(ancho)x(altura)\n",
    "def conv4D(imgIn, filters, padding, stride):\n",
    "  #ESTA FUNCION BOTA LA CONVOLUCIÓN PERO NO CON LA FORMA QUE DEBERÍA BOTAR\n",
    "  #PERO EL CÁLCULO ES CORRECTO\n",
    "  m, n_C, n_H, n_W = imgIn.shape\n",
    "  n_f, f_C, f_H, f_W = filters.shape\n",
    "  n = int((n_H+2*padding-f_H)/stride + 1)\n",
    "  outputs = np.zeros((m,n_f,n,n))\n",
    "\n",
    "  B = imNDcol(imgIn, [f_C, f_H, f_W])\n",
    "  F = imNDcol(filters, [f_C, f_H, f_W])\n",
    "  #Convolución\n",
    "  CONV = B.T @ F\n",
    "\n",
    "  return CONV"
   ]
  }
 ],
 "metadata": {
  "kernelspec": {
   "display_name": "Python 3 (ipykernel)",
   "language": "python",
   "name": "python3"
  },
  "language_info": {
   "codemirror_mode": {
    "name": "ipython",
    "version": 3
   },
   "file_extension": ".py",
   "mimetype": "text/x-python",
   "name": "python",
   "nbconvert_exporter": "python",
   "pygments_lexer": "ipython3",
   "version": "3.9.12"
  }
 },
 "nbformat": 4,
 "nbformat_minor": 5
}
